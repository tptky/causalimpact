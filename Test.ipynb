{
 "cells": [
  {
   "cell_type": "code",
   "execution_count": 4,
   "metadata": {},
   "outputs": [
    {
     "ename": "ERROR",
     "evalue": "Error in library(CausalImpact): there is no package called ‘CausalImpact’\n",
     "output_type": "error",
     "traceback": [
      "Error in library(CausalImpact): there is no package called ‘CausalImpact’\nTraceback:\n",
      "1. library(CausalImpact)"
     ]
    }
   ],
   "source": [
    "library(CausalImpact)"
   ]
  },
  {
   "cell_type": "code",
   "execution_count": null,
   "metadata": {},
   "outputs": [],
   "source": []
  },
  {
   "cell_type": "code",
   "execution_count": null,
   "metadata": {},
   "outputs": [],
   "source": [
    "mydata <- read.csv(file=\"~/venv/causalimpact/mydata.csv\", header=TRUE, sep=\",\")"
   ]
  },
  {
   "cell_type": "code",
   "execution_count": null,
   "metadata": {},
   "outputs": [],
   "source": [
    "head(mydata)"
   ]
  },
  {
   "cell_type": "code",
   "execution_count": null,
   "metadata": {},
   "outputs": [],
   "source": [
    "matplot(mydata, type=\"l\")"
   ]
  },
  {
   "cell_type": "code",
   "execution_count": null,
   "metadata": {},
   "outputs": [],
   "source": [
    "dim(mydata)"
   ]
  },
  {
   "cell_type": "code",
   "execution_count": null,
   "metadata": {},
   "outputs": [],
   "source": [
    "pre.period <- c(1, 104)"
   ]
  },
  {
   "cell_type": "code",
   "execution_count": null,
   "metadata": {},
   "outputs": [],
   "source": [
    "post.period <- c(105,152)"
   ]
  },
  {
   "cell_type": "code",
   "execution_count": null,
   "metadata": {},
   "outputs": [],
   "source": [
    "impact <- CausalImpact(mydata, pre.period, post.period)"
   ]
  },
  {
   "cell_type": "code",
   "execution_count": null,
   "metadata": {},
   "outputs": [],
   "source": [
    "plot(impact)"
   ]
  },
  {
   "cell_type": "code",
   "execution_count": 10,
   "metadata": {},
   "outputs": [
    {
     "name": "stdout",
     "output_type": "stream",
     "text": [
      "Posterior inference {CausalImpact}\n",
      "\n",
      "                         Average         Cumulative      \n",
      "Actual                   52              8905            \n",
      "Prediction (s.d.)        48 (2.1)        8226 (361.1)    \n",
      "95% CI                   [44, 52]        [7491, 8935]    \n",
      "                                                         \n",
      "Absolute effect (s.d.)   3.9 (2.1)       679.1 (361.1)   \n",
      "95% CI                   [-0.18, 8.2]    [-30.30, 1414.4]\n",
      "                                                         \n",
      "Relative effect (s.d.)   8.3% (4.4%)     8.3% (4.4%)     \n",
      "95% CI                   [-0.37%, 17%]   [-0.37%, 17%]   \n",
      "\n",
      "Posterior tail-area probability p:   0.02974\n",
      "Posterior prob. of a causal effect:  97.026%\n",
      "\n",
      "For more details, type: summary(impact, \"report\")\n",
      "\n"
     ]
    }
   ],
   "source": [
    "summary(impact)"
   ]
  },
  {
   "cell_type": "code",
   "execution_count": 11,
   "metadata": {},
   "outputs": [
    {
     "name": "stdout",
     "output_type": "stream",
     "text": [
      "Analysis report {CausalImpact}\n",
      "\n",
      "\n",
      "During the post-intervention period, the response variable had an average value of approx. 51.77. In the absence of an intervention, we would have expected an average response of 47.83. The 95% interval of this counterfactual prediction is [43.55, 51.95]. Subtracting this prediction from the observed response yields an estimate of the causal effect the intervention had on the response variable. This effect is 3.95 with a 95% interval of [-0.18, 8.22]. For a discussion of the significance of this effect, see below.\n",
      "\n",
      "Summing up the individual data points during the post-intervention period (which can only sometimes be meaningfully interpreted), the response variable had an overall value of 8.90K. Had the intervention not taken place, we would have expected a sum of 8.23K. The 95% interval of this prediction is [7.49K, 8.94K].\n",
      "\n",
      "The above results are given in terms of absolute numbers. In relative terms, the response variable showed an increase of +8%. The 95% interval of this percentage is [-0%, +17%].\n",
      "\n",
      "This means that, although the intervention appears to have caused a positive effect, this effect is not statistically significant when considering the entire post-intervention period as a whole. Individual days or shorter stretches within the intervention period may of course still have had a significant effect, as indicated whenever the lower limit of the impact time series (lower plot) was above zero. The apparent effect could be the result of random fluctuations that are unrelated to the intervention. This is often the case when the intervention period is very long and includes much of the time when the effect has already worn off. It can also be the case when the intervention period is too short to distinguish the signal from the noise. Finally, failing to find a significant effect can happen when there are not enough control variables or when these variables do not correlate well with the response variable during the learning period.\n",
      "\n",
      "The probability of obtaining this effect by chance is very small (Bayesian one-sided tail-area probability p = 0.03). This means the causal effect can be considered statistically significant. \n"
     ]
    }
   ],
   "source": [
    "summary(impact, \"report\")"
   ]
  },
  {
   "cell_type": "code",
   "execution_count": null,
   "metadata": {},
   "outputs": [],
   "source": []
  }
 ],
 "metadata": {
  "kernelspec": {
   "display_name": "R",
   "language": "R",
   "name": "ir"
  },
  "language_info": {
   "codemirror_mode": "r",
   "file_extension": ".r",
   "mimetype": "text/x-r-source",
   "name": "R",
   "pygments_lexer": "r",
   "version": "3.6.1"
  }
 },
 "nbformat": 4,
 "nbformat_minor": 2
}
